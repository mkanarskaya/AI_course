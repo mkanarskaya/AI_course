{
 "cells": [
  {
   "cell_type": "code",
   "execution_count": 23,
   "metadata": {},
   "outputs": [],
   "source": [
    "class Pupa():\n",
    "    def __init__(self, start = 0):\n",
    "        self.start = start\n",
    "    \n",
    "    def take_salary(self, salary):\n",
    "        self.start += salary\n",
    "    \n",
    "    def do_work(self, spisok1, spisok2):\n",
    "        n1 = len(spisok1)\n",
    "        n2 = len(spisok2)\n",
    "        if n1 > n2:\n",
    "            new_spisok = spisok1\n",
    "            for i in range (n2):\n",
    "                new_spisok[i] = spisok1[i] + spisok2[i]\n",
    "        else:\n",
    "            new_spisok = spisok2\n",
    "            for i in range (n1):\n",
    "                new_spisok[i] = spisok1[i] + spisok2[i]\n",
    "        return new_spisok\n"
   ]
  },
  {
   "cell_type": "code",
   "execution_count": 24,
   "metadata": {},
   "outputs": [],
   "source": [
    "class Lupa():\n",
    "    def __init__(self, start = 0):\n",
    "        self.start = start\n",
    "\n",
    "    def take_salary(self, salary):\n",
    "        self.start += salary\n",
    "    \n",
    "    def do_work(self, spisok1, spisok2):\n",
    "        n1 = len(spisok1)\n",
    "        n2 = len(spisok2)\n",
    "        if n1 >= n2:\n",
    "            new_spisok = spisok1\n",
    "            for i in range (n2):\n",
    "                new_spisok[i] -= spisok2[i]\n",
    "        else:\n",
    "            new_spisok = [-i for i in spisok2]\n",
    "            for i in range (n1):\n",
    "                new_spisok[i] += spisok1[i]\n",
    "        return new_spisok"
   ]
  },
  {
   "cell_type": "code",
   "execution_count": 25,
   "metadata": {},
   "outputs": [],
   "source": [
    "class Accountant():\n",
    "    def give_salary(self, worker, salary):\n",
    "        worker.take_salary(salary)"
   ]
  },
  {
   "cell_type": "code",
   "execution_count": 26,
   "metadata": {},
   "outputs": [
    {
     "data": {
      "text/plain": [
       "[1, 1, -1]"
      ]
     },
     "execution_count": 26,
     "metadata": {},
     "output_type": "execute_result"
    }
   ],
   "source": [
    "Tatyana= Accountant()\n",
    "Masha = Pupa()\n",
    "Tatyana.give_salary(Masha, 1000)\n",
    "Masha.start\n",
    "Tatyana.give_salary(Masha, 2000)\n",
    "Masha.start\n",
    "Masha.do_work([1, 1, 1], [2, 2])\n",
    "Dasha = Lupa()\n",
    "Dasha.do_work([2, 2], [1, 1, 1])"
   ]
  }
 ],
 "metadata": {
  "kernelspec": {
   "display_name": ".venv",
   "language": "python",
   "name": "python3"
  },
  "language_info": {
   "codemirror_mode": {
    "name": "ipython",
    "version": 3
   },
   "file_extension": ".py",
   "mimetype": "text/x-python",
   "name": "python",
   "nbconvert_exporter": "python",
   "pygments_lexer": "ipython3",
   "version": "3.10.7"
  }
 },
 "nbformat": 4,
 "nbformat_minor": 2
}
