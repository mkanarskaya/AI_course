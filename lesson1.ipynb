{
 "cells": [
  {
   "cell_type": "markdown",
   "metadata": {},
   "source": [
    "# 1) Вспомнить все: if"
   ]
  },
  {
   "cell_type": "code",
   "execution_count": 37,
   "metadata": {},
   "outputs": [
    {
     "name": "stdout",
     "output_type": "stream",
     "text": [
      "НОРМАЛЬНО\n"
     ]
    }
   ],
   "source": [
    "def weather(Temp):\n",
    "    if Temp > 28:\n",
    "        return 'ЖАРКО'\n",
    "    elif Temp < 15.5:\n",
    "        return 'ХОЛОДНО'\n",
    "    else:\n",
    "        return 'НОРМАЛЬНО'\n",
    "\n",
    "print(weather(float(input(\"Введите температуру: \"))))"
   ]
  },
  {
   "cell_type": "markdown",
   "metadata": {},
   "source": [
    "# 2)Найди кота"
   ]
  },
  {
   "cell_type": "code",
   "execution_count": 42,
   "metadata": {},
   "outputs": [
    {
     "name": "stdout",
     "output_type": "stream",
     "text": [
      "МЯУ\n"
     ]
    }
   ],
   "source": [
    "def CAT(file):\n",
    "    for line in file:\n",
    "        if 'кот' in line or 'Кот' in line:\n",
    "            return 'МЯУ'\n",
    "        else:\n",
    "            return 'НЕТ'\n",
    "\n",
    "Number = int(input(\"Введите количество строк: \"))\n",
    "text = []\n",
    "for i in range(Number):\n",
    "    text.append(input())\n",
    "\n",
    "print(CAT(text)) # не обязательно вместе, контрпример квавыаот"
   ]
  },
  {
   "cell_type": "markdown",
   "metadata": {},
   "source": [
    "# 3)Слова и буквы  "
   ]
  },
  {
   "cell_type": "code",
   "execution_count": 49,
   "metadata": {},
   "outputs": [
    {
     "name": "stdout",
     "output_type": "stream",
     "text": [
      "ДА\n"
     ]
    }
   ],
   "source": [
    "text = []\n",
    "text.append(input())\n",
    "while text[-1] != 'стоп':\n",
    "    text.append(input())\n",
    "text = text[:-1]\n",
    "\n",
    "def LenWorld (text):\n",
    "    len_text = list(map(len, text))\n",
    "    num_min = len_text.index(min(len_text))\n",
    "    num_max = len_text.index(max(len_text))\n",
    "    # c = 0\n",
    "    # for letter in text[num_min]:\n",
    "    #     if text[num_max].find(letter) != -1:\n",
    "    #         c += 1\n",
    "    minWord = set(text[num_min])\n",
    "    maxWord = set(text[num_max])\n",
    "    if minWord.issubset(maxWord):\n",
    "        return 'ДА'\n",
    "    else:\n",
    "        return 'НЕТ'\n",
    "\n",
    "print(LenWorld(text))\n"
   ]
  },
  {
   "cell_type": "markdown",
   "metadata": {},
   "source": [
    "# 4)Список покупок"
   ]
  },
  {
   "cell_type": "code",
   "execution_count": 14,
   "metadata": {},
   "outputs": [
    {
     "name": "stdout",
     "output_type": "stream",
     "text": [
      "vze\n",
      "vze\n"
     ]
    }
   ],
   "source": [
    "Number = int(input(\"Введите количество строк: \"))\n",
    "text = []\n",
    "for i in range(Number):\n",
    "    text.append(input())\n",
    "    print(text[i])"
   ]
  },
  {
   "cell_type": "markdown",
   "metadata": {},
   "source": [
    "# 5)Ххооллоодд"
   ]
  },
  {
   "cell_type": "code",
   "execution_count": 53,
   "metadata": {},
   "outputs": [
    {
     "name": "stdout",
     "output_type": "stream",
     "text": [
      "aassdd\n"
     ]
    }
   ],
   "source": [
    "def double_word(st):\n",
    "    double = ''.join([i*2 for i in st])\n",
    "    return double\n",
    "\n",
    "print(double_word(input()))"
   ]
  },
  {
   "cell_type": "markdown",
   "metadata": {},
   "source": [
    "# 6)Формальное приветствие"
   ]
  },
  {
   "cell_type": "code",
   "execution_count": 54,
   "metadata": {},
   "outputs": [
    {
     "name": "stdout",
     "output_type": "stream",
     "text": [
      "Здравствуйте, кот котович\n"
     ]
    }
   ],
   "source": [
    "def great():\n",
    "    name = input(\"Ваше имя: \")\n",
    "    surname = input(\"Ваша фамилия: \")\n",
    "    return f'Здравствуйте, {name} {surname}'\n",
    "\n",
    "print(great())"
   ]
  },
  {
   "cell_type": "markdown",
   "metadata": {},
   "source": [
    "# 7) Маленький колокольчик"
   ]
  },
  {
   "cell_type": "code",
   "execution_count": 56,
   "metadata": {},
   "outputs": [],
   "source": [
    "class LittleBell():\n",
    "    def sound(self):\n",
    "        print('ding')"
   ]
  },
  {
   "cell_type": "code",
   "execution_count": 57,
   "metadata": {},
   "outputs": [
    {
     "name": "stdout",
     "output_type": "stream",
     "text": [
      "ding\n",
      "ding\n"
     ]
    }
   ],
   "source": [
    "bell = LittleBell()\n",
    "bell.sound()\n",
    "bell.sound()"
   ]
  }
 ],
 "metadata": {
  "kernelspec": {
   "display_name": "Python 3",
   "language": "python",
   "name": "python3"
  },
  "language_info": {
   "codemirror_mode": {
    "name": "ipython",
    "version": 3
   },
   "file_extension": ".py",
   "mimetype": "text/x-python",
   "name": "python",
   "nbconvert_exporter": "python",
   "pygments_lexer": "ipython3",
   "version": "3.10.7"
  }
 },
 "nbformat": 4,
 "nbformat_minor": 2
}
